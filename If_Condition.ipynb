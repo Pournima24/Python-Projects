{
  "nbformat": 4,
  "nbformat_minor": 0,
  "metadata": {
    "colab": {
      "provenance": []
    },
    "kernelspec": {
      "name": "python3",
      "display_name": "Python 3"
    },
    "language_info": {
      "name": "python"
    }
  },
  "cells": [
    {
      "cell_type": "markdown",
      "source": [
        "##Python project for If condition"
      ],
      "metadata": {
        "id": "LP9QCxGfEQpf"
      }
    },
    {
      "cell_type": "markdown",
      "source": [
        "1. Take the input from user and check the age if the person categorized as minor, teens, adult, mid age, old\n"
      ],
      "metadata": {
        "id": "-SodC7H0Edr3"
      }
    },
    {
      "cell_type": "code",
      "source": [
        "age = int(input(\"Enter the age of person \"))\n",
        "\n",
        "if age>=0 and age<1:\n",
        "  print('Its a just born baby !!!')\n",
        "elif age > 0 and age <= 13:\n",
        "  print('The person is Minor ')\n",
        "elif age > 13 and age <= 18:\n",
        "  print('The person is in the Teens ')\n",
        "elif age>18 and age <= 40:\n",
        "  print('The person is Adult ')\n",
        "elif age>40 and age<= 60:\n",
        "  print('The person is Mid Age ')\n",
        "elif age>60 and age <= 100:\n",
        "  print('The person is Old Age ')\n",
        "elif age>100 and age <= 110:\n",
        "  print('The person knows Ikigai')\n",
        "else :\n",
        "  print('Invalid Number')"
      ],
      "metadata": {
        "colab": {
          "base_uri": "https://localhost:8080/"
        },
        "id": "mP-bFMeQEprG",
        "outputId": "861d9466-29a1-43be-f87f-a87f9d4bc9ad"
      },
      "execution_count": null,
      "outputs": [
        {
          "output_type": "stream",
          "name": "stdout",
          "text": [
            "Enter the age of person 57\n",
            "The person is Mid Age \n"
          ]
        }
      ]
    },
    {
      "cell_type": "markdown",
      "source": [
        "If-Else and While"
      ],
      "metadata": {
        "id": "UsQ6mVmbIzlD"
      }
    },
    {
      "cell_type": "markdown",
      "source": [
        "2. Take two numbers from user. Ask user to what mathematical function yoiu need to do with it. Show the results\n"
      ],
      "metadata": {
        "id": "_HstsyvzJAcH"
      }
    },
    {
      "cell_type": "code",
      "source": [
        "def calculations():\n",
        "  while True:\n",
        "    num1 = float(input(\"Enter the number \"))\n",
        "    num2 = float(input('Enter the 2nd number '))\n",
        "    operations = {1: 'Addition', 2: 'Substraction', 3: 'Multiplication', 4:'Division', 5:'Floor Division', 6:'Power ' }\n",
        "    print(operations)\n",
        "    choice = int(input('Enter your choice '))\n",
        "    if choice == 1:\n",
        "      print(\"Addition of the input is \", num1+num2)\n",
        "    elif choice == 2:\n",
        "      print(\"Substraction of the input is \", num1-num2)\n",
        "    elif choice == 3:\n",
        "      print(\"Multiplication of the input is \", num1*num2)\n",
        "    elif choice == 4:\n",
        "      print(\"Division of the input is \", num1/num2)\n",
        "    elif choice == 5:\n",
        "      print(\"Floor Division of the input is \", num1//num2)\n",
        "    elif choice == 6:\n",
        "      print(num1, ' raised to ' ,num2 , 'of the input is ', num1**num2)\n",
        "    choices = input('If you want to quit = y/n ')\n",
        "    if choices == 'y':\n",
        "      break\n",
        "\n",
        "calculations(2,3)"
      ],
      "metadata": {
        "id": "0rWPK-59Ey0-",
        "colab": {
          "base_uri": "https://localhost:8080/"
        },
        "outputId": "d3b4436a-514d-4e13-9ab0-b65218ea77eb"
      },
      "execution_count": null,
      "outputs": [
        {
          "output_type": "stream",
          "name": "stdout",
          "text": [
            "{1: 'Addition', 2: 'Substraction', 3: 'Multiplication', 4: 'Division', 5: 'Floor Division', 6: 'Power '}\n",
            "Enter your choice5\n",
            "Floor Division of the input is  0\n"
          ]
        }
      ]
    },
    {
      "cell_type": "code",
      "source": [],
      "metadata": {
        "id": "5Xw3c9lSEyuD"
      },
      "execution_count": null,
      "outputs": []
    },
    {
      "cell_type": "code",
      "source": [],
      "metadata": {
        "id": "Ls6uCM4ZazDx"
      },
      "execution_count": null,
      "outputs": []
    }
  ]
}