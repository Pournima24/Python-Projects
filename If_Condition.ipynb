{
  "nbformat": 4,
  "nbformat_minor": 0,
  "metadata": {
    "colab": {
      "provenance": []
    },
    "kernelspec": {
      "name": "python3",
      "display_name": "Python 3"
    },
    "language_info": {
      "name": "python"
    }
  },
  "cells": [
    {
      "cell_type": "markdown",
      "source": [
        "##Python project for If condition"
      ],
      "metadata": {
        "id": "LP9QCxGfEQpf"
      }
    },
    {
      "cell_type": "markdown",
      "source": [
        "Take the input from user and check the age if the person categorized as minor, teens, adult, mid age, old\n"
      ],
      "metadata": {
        "id": "-SodC7H0Edr3"
      }
    },
    {
      "cell_type": "code",
      "source": [
        "age = int(input(\"Enter the age of person \"))\n",
        "\n",
        "if age>=0 and age<1:\n",
        "  print('Its a just born baby !!!')\n",
        "elif age > 0 and age <= 13:\n",
        "  print('The person is Minor ')\n",
        "elif age > 13 and age <= 18:\n",
        "  print('The person is in the Teens ')\n",
        "elif age>18 and age <= 40:\n",
        "  print('The person is Adult ')\n",
        "elif age>40 and age<= 60:\n",
        "  print('The person is Mid Age ')\n",
        "elif age>60 and age <= 100:\n",
        "  print('The person is Old Age ')\n",
        "elif age>100 and age <= 110:\n",
        "  print('The person knows Ikigai')\n",
        "else :\n",
        "  print('Invalid Number')"
      ],
      "metadata": {
        "colab": {
          "base_uri": "https://localhost:8080/"
        },
        "id": "mP-bFMeQEprG",
        "outputId": "861d9466-29a1-43be-f87f-a87f9d4bc9ad"
      },
      "execution_count": 15,
      "outputs": [
        {
          "output_type": "stream",
          "name": "stdout",
          "text": [
            "Enter the age of person 57\n",
            "The person is Mid Age \n"
          ]
        }
      ]
    },
    {
      "cell_type": "code",
      "source": [],
      "metadata": {
        "id": "C6U0cfraEy6T"
      },
      "execution_count": 12,
      "outputs": []
    },
    {
      "cell_type": "code",
      "source": [],
      "metadata": {
        "id": "0rWPK-59Ey0-"
      },
      "execution_count": null,
      "outputs": []
    },
    {
      "cell_type": "code",
      "source": [],
      "metadata": {
        "id": "5Xw3c9lSEyuD"
      },
      "execution_count": null,
      "outputs": []
    }
  ]
}